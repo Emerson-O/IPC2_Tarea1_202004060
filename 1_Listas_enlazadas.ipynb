{
  "nbformat": 4,
  "nbformat_minor": 0,
  "metadata": {
    "colab": {
      "name": "1.Listas enlazadas.ipynb",
      "provenance": [],
      "collapsed_sections": [],
      "authorship_tag": "ABX9TyNjfZFFgcjuAtltvmQ4KM6/",
      "include_colab_link": true
    },
    "kernelspec": {
      "name": "python3",
      "display_name": "Python 3"
    },
    "language_info": {
      "name": "python"
    }
  },
  "cells": [
    {
      "cell_type": "markdown",
      "metadata": {
        "id": "view-in-github",
        "colab_type": "text"
      },
      "source": [
        "<a href=\"https://colab.research.google.com/github/Emerson-O/IPC2_Tarea1_202004060/blob/main/1_Listas_enlazadas.ipynb\" target=\"_parent\"><img src=\"https://colab.research.google.com/assets/colab-badge.svg\" alt=\"Open In Colab\"/></a>"
      ]
    },
    {
      "cell_type": "markdown",
      "metadata": {
        "id": "OJrauhh8uDZi"
      },
      "source": [
        "## **Listas Enlazadas**\n",
        "**Definición de la clase Estudiante**\n"
      ]
    },
    {
      "cell_type": "code",
      "metadata": {
        "id": "KKRylWHruGlM"
      },
      "source": [
        "class estudiante:\n",
        "  def __init__(self, carne, nombre, edad, direccion, telefono, email, carrera, puesto):\n",
        "    self.carne = carne\n",
        "    self.nombre = nombre\n",
        "    self.edad = edad\n",
        "    self.direccion = direccion\n",
        "    self.telefono = telefono\n",
        "    self.email = email\n",
        "    self.carrera = carrera\n",
        "    self.puesto = puesto\n",
        "\n",
        "\n",
        "    \n"
      ],
      "execution_count": null,
      "outputs": []
    },
    {
      "cell_type": "markdown",
      "metadata": {
        "id": "2mvnb7Z0zXjj"
      },
      "source": [
        "**Definición de la clase Nodo**"
      ]
    },
    {
      "cell_type": "code",
      "metadata": {
        "id": "EC3CygifuKJk"
      },
      "source": [
        "class nodo:\n",
        "  def __init__(self, estudiante=None, siguiente=None):\n",
        "    self.estudiante = estudiante\n",
        "    self.siguiente = siguiente"
      ],
      "execution_count": null,
      "outputs": []
    },
    {
      "cell_type": "markdown",
      "metadata": {
        "id": "bO5Sjmq020Cj"
      },
      "source": [
        "**Definición de la clase Lista Enlazada**"
      ]
    },
    {
      "cell_type": "code",
      "metadata": {
        "id": "GaOGDSfO26X9"
      },
      "source": [
        "class lista_enlazada:\n",
        "    def __init__(self):\n",
        "      self.primero = None \n",
        "\n",
        "    def insertar(self, estudiante):\n",
        "      if self.primero is None: \n",
        "        self.primero = nodo(estudiante = estudiante) \n",
        "        return\n",
        "      actual = self.primero \n",
        "      while actual.siguiente: \n",
        "        actual = actual.siguiente \n",
        "      actual.siguiente = nodo(estudiante=estudiante)\n",
        "\n",
        "    def recorrer(self):\n",
        "      actual = self.primero\n",
        "      while actual != None:\n",
        "        print(\"carne: \", actual.estudiante.carne, \"nombre: \", actual.estudiante.nombre, \"email: \", actual.estudiante.email, \"->\" )\n",
        "        actual = actual.siguiente\n",
        "    \n",
        "    def eliminar(self, carne):\n",
        "      actual = self.primero\n",
        "      anterior = None\n",
        "      \n",
        "      while actual and actual.estudiante.carne != carne:\n",
        "        anterior = actual\n",
        "        actual = actual.siguiente\n",
        "      if anterior is None:\n",
        "        self.primero=actual.siguiente\n",
        "        actual.siguiente=None\n",
        "      elif actual:\n",
        "        anterior.siguiente=actual.siguiente\n",
        "        actual.siguiente=None\n",
        "\n",
        "        #Codigo de la Tarea#\n",
        "\n",
        "    def Tarea_buscar(self,carne):\n",
        "      actual=self.primero\n",
        "      while actual !=None: \n",
        "        if actual.estudiante.carne == carne:\n",
        "          print(\"carne: \", actual.estudiante.carne, \"nombre: \", actual.estudiante.nombre, \"email: \", actual.estudiante.email, \"->\" )\n",
        "          break \n",
        "        else:\n",
        "          actual = actual.siguiente\n",
        "      if actual==None:\n",
        "        print(\"Datos no almacenados/ encontrados\")\n",
        "\n",
        "   \n",
        "\n"
      ],
      "execution_count": null,
      "outputs": []
    },
    {
      "cell_type": "markdown",
      "metadata": {
        "id": "HadluizCsj3U"
      },
      "source": [
        "**Creacion de objetos Estudiante**"
      ]
    },
    {
      "cell_type": "code",
      "metadata": {
        "id": "bx6Al8NvsyeU"
      },
      "source": [
        "e1 = estudiante(201915059, \"Gerson Ortiz\", 20, \"9 calle 10-02 zona 1\", 24400101, \"gerson.ortiz@gmail.com\", \"Ingenieria en Sistemas\", \"Progaramador Jr\")\n",
        "e2 = estudiante(201915060, \"Karen Hurtarte\", 21, \"7 calle 10-02 zona 1\", 24400102, \"karen.hurtarte@gmail.com\", \"Ingenieria en Sistemas\", \"Progaramador Jr\")\n",
        "e3 = estudiante(201915061, \"Luis Mendez\", 22, \"8 calle 10-02 zona 1\", 24400103, \"luis.mendez@gmail.com\", \"Ingenieria en Sistemas\", \"Progaramador Jr\")"
      ],
      "execution_count": null,
      "outputs": []
    },
    {
      "cell_type": "markdown",
      "metadata": {
        "id": "_GWwmv_HuV06"
      },
      "source": [
        "**Inserción**"
      ]
    },
    {
      "cell_type": "code",
      "metadata": {
        "id": "qPH_1DSfufPa"
      },
      "source": [
        "lista_e = lista_enlazada()\n",
        "lista_e.insertar(e1)\n",
        "lista_e.insertar(e2)\n",
        "lista_e.insertar(e3)"
      ],
      "execution_count": null,
      "outputs": []
    },
    {
      "cell_type": "markdown",
      "metadata": {
        "id": "KZ_HFoa8vAqM"
      },
      "source": [
        "**Recorrer la lista**"
      ]
    },
    {
      "cell_type": "code",
      "metadata": {
        "id": "WL672EV9vI_h",
        "colab": {
          "base_uri": "https://localhost:8080/"
        },
        "outputId": "4a72a363-88bf-40ce-a93f-d9bbdf1c14b3"
      },
      "source": [
        "lista_e.recorrer()\n"
      ],
      "execution_count": null,
      "outputs": [
        {
          "output_type": "stream",
          "text": [
            "carne:  201915059 nombre:  Gerson Ortiz email:  gerson.ortiz@gmail.com ->\n",
            "carne:  201915060 nombre:  Karen Hurtarte email:  karen.hurtarte@gmail.com ->\n",
            "carne:  201915061 nombre:  Luis Mendez email:  luis.mendez@gmail.com ->\n"
          ],
          "name": "stdout"
        }
      ]
    },
    {
      "cell_type": "markdown",
      "metadata": {
        "id": "3ks2Ci7XwgS8"
      },
      "source": [
        "**Eliminar un Nodo de la lista**"
      ]
    },
    {
      "cell_type": "code",
      "metadata": {
        "colab": {
          "base_uri": "https://localhost:8080/"
        },
        "id": "T5E_EPOowx87",
        "outputId": "20a47ccc-71ff-4f09-c077-f11395884f06"
      },
      "source": [
        "lista_e.eliminar(201915060)\n",
        "lista_e.recorrer()"
      ],
      "execution_count": null,
      "outputs": [
        {
          "output_type": "stream",
          "text": [
            "carne:  201915059 nombre:  Gerson Ortiz email:  gerson.ortiz@gmail.com ->\n",
            "carne:  201915061 nombre:  Luis Mendez email:  luis.mendez@gmail.com ->\n"
          ],
          "name": "stdout"
        }
      ]
    },
    {
      "cell_type": "markdown",
      "metadata": {
        "id": "M4tmqR1LMJVg"
      },
      "source": [
        "**Buscar un Nodo**"
      ]
    },
    {
      "cell_type": "code",
      "metadata": {
        "colab": {
          "base_uri": "https://localhost:8080/"
        },
        "id": "WTnM-FB-MUnL",
        "outputId": "f8de2b77-1d55-4d38-a5bc-b6a2a872d675"
      },
      "source": [
        "lista_e.Tarea_buscar(201915059)\n",
        "lista_e.Tarea_buscar(201915060) \n",
        "lista_e.Tarea_buscar(201915061)"
      ],
      "execution_count": null,
      "outputs": [
        {
          "output_type": "stream",
          "text": [
            "carne:  201915059 nombre:  Gerson Ortiz email:  gerson.ortiz@gmail.com ->\n",
            "Datos no almacenados/ encontrados\n",
            "carne:  201915061 nombre:  Luis Mendez email:  luis.mendez@gmail.com ->\n"
          ],
          "name": "stdout"
        }
      ]
    }
  ]
}
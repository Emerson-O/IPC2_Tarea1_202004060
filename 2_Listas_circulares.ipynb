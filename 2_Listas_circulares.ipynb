{
  "nbformat": 4,
  "nbformat_minor": 0,
  "metadata": {
    "colab": {
      "name": "2.Listas circulares.ipynb",
      "provenance": [],
      "authorship_tag": "ABX9TyPj7YpPxNTylb/6qMJ1CYtM",
      "include_colab_link": true
    },
    "kernelspec": {
      "display_name": "Python 3",
      "name": "python3"
    },
    "language_info": {
      "name": "python"
    }
  },
  "cells": [
    {
      "cell_type": "markdown",
      "metadata": {
        "id": "view-in-github",
        "colab_type": "text"
      },
      "source": [
        "<a href=\"https://colab.research.google.com/github/Emerson-O/IPC2_Tarea1_202004060/blob/main/2_Listas_circulares.ipynb\" target=\"_parent\"><img src=\"https://colab.research.google.com/assets/colab-badge.svg\" alt=\"Open In Colab\"/></a>"
      ]
    },
    {
      "cell_type": "markdown",
      "metadata": {
        "id": "FV691h99zXzs"
      },
      "source": [
        "# Listas Circulares\n",
        "**DEfinicion de la clase estudiante**"
      ]
    },
    {
      "cell_type": "code",
      "metadata": {
        "id": "IBp7DOmMzanZ"
      },
      "source": [
        "class estudiante:\n",
        "  def __init__(self, carne, nombre, edad, direccion, telefono, email, carrera, puesto):\n",
        "    self.carne = carne\n",
        "    self.nombre = nombre\n",
        "    self.edad = edad\n",
        "    self.direccion = direccion\n",
        "    self.telefono = telefono\n",
        "    self.email = email\n",
        "    self.carrera = carrera\n",
        "    self.puesto = puesto"
      ],
      "execution_count": 57,
      "outputs": []
    },
    {
      "cell_type": "markdown",
      "metadata": {
        "id": "_La6OV3s1g22"
      },
      "source": [
        "**Definición de clase Nodo**"
      ]
    },
    {
      "cell_type": "code",
      "metadata": {
        "id": "HMrJOPji1lmG"
      },
      "source": [
        "class nodo:\n",
        "  def __init__(self, estudiante=None, siguiente=None):\n",
        "    self.estudiante = estudiante\n",
        "    self.siguiente = siguiente"
      ],
      "execution_count": 58,
      "outputs": []
    },
    {
      "cell_type": "markdown",
      "metadata": {
        "id": "ZFZQnmN01svA"
      },
      "source": [
        "**Definición de clase circular**"
      ]
    },
    {
      "cell_type": "code",
      "metadata": {
        "id": "wofByixe1xAC"
      },
      "source": [
        "class lista_circular:\n",
        "  def __init__(self):\n",
        "    self.primero = None\n",
        "\n",
        "  def insertar(self, estudiante):\n",
        "    if self.primero is None:\n",
        "      self.primero = nodo(estudiante=estudiante)\n",
        "      self.primero.siguiente = self.primero\n",
        "    else:\n",
        "      actual = nodo(estudiante=estudiante, siguiente=self.primero.siguiente)\n",
        "      self.primero.siguiente = actual\n",
        "\n",
        "  def recorrer(self):\n",
        "    if self.primero is None:\n",
        "      return\n",
        "    actual = self.primero\n",
        "    print(\"carne:\", actual.estudiante.carne, \"nombre:\" , actual.estudiante.nombre, \"email:\" , actual.estudiante.email, \"->\")\n",
        "    while actual.siguiente != self.primero:\n",
        "      actual = actual.siguiente\n",
        "      print(\"carne:\", actual.estudiante.carne, \"nombre:\" , actual.estudiante.nombre, \"email:\" , actual.estudiante.email, \"->\")\n",
        "\n",
        "  def eliminar(self,carne):\n",
        "    actual=self.primero\n",
        "    anterior=None\n",
        "    no_encontrado=False\n",
        "    while actual and actual.estudiante.carne != carne:\n",
        "      anterior=actual\n",
        "      actual=actual.siguiente\n",
        "      if actual==self.primero:\n",
        "        no_encontrado=True\n",
        "        break\n",
        "    if not no_encontrado:\n",
        "      if anterior is not None:\n",
        "        anterior.siguiente=actual.siguiente\n",
        "      else:\n",
        "        while actual.siguiente!=self.primero:\n",
        "          actual=actual.siguiente\n",
        "        actual.siguiente=self.primero.siguiente\n",
        "        self.primero=self.primero.siguiente\n",
        "\n",
        "  #Inicio de la tarea No2. Buscar lista\n",
        "\n",
        "  def Tarea2_buscar(self, carne):\n",
        "    actual=self.primero\n",
        "    anterior=None\n",
        "    buscardato=False\n",
        "    while actual and actual.estudiante.carne != carne:\n",
        "      anterior=actual\n",
        "      actual=actual.siguiente\n",
        "      if actual==self.primero:\n",
        "        buscardato=True\n",
        "        break\n",
        "    if not buscardato:\n",
        "      while actual !=None:\n",
        "        if actual.estudiante.carne == carne:\n",
        "            print(\"carne: \", actual.estudiante.carne, \"nombre: \", actual.estudiante.nombre, \"email: \", actual.estudiante.email, \"->\" )\n",
        "            break \n",
        "        else:\n",
        "            actual = actual.siguiente\n",
        "    else:\n",
        "      print(\"Datos almacenados del carne:\",carne,\"no se encontro los datos\")\n",
        "    \n",
        "    \n",
        "      \n",
        "    "
      ],
      "execution_count": 59,
      "outputs": []
    },
    {
      "cell_type": "markdown",
      "metadata": {
        "id": "mR1Z9Pge9xza"
      },
      "source": [
        "**Creacion de objetos estudiantes**"
      ]
    },
    {
      "cell_type": "code",
      "metadata": {
        "id": "0UuY4wLx-CCy"
      },
      "source": [
        "e1 = estudiante(201915059, \"Gerson Ortiz\", 20, \"9 calle 10-02 zona 1\", 24400101, \"gerson.ortiz@gmail.com\", \"Ingenieria en Sistemas\", \"Progaramador Jr\")\n",
        "e2 = estudiante(201915060, \"Karen Hurtarte\", 21, \"7 calle 10-02 zona 1\", 24400102, \"karen.hurtarte@gmail.com\", \"Ingenieria en Sistemas\", \"Progaramador Jr\")\n",
        "e3 = estudiante(201915061, \"Luis Mendez\", 22, \"8 calle 10-02 zona 1\", 24400103, \"luis.mendez@gmail.com\", \"Ingenieria en Sistemas\", \"Progaramador Jr\")"
      ],
      "execution_count": 60,
      "outputs": []
    },
    {
      "cell_type": "markdown",
      "metadata": {
        "id": "UY6Gf8PG-Dmp"
      },
      "source": [
        "**Inserción**"
      ]
    },
    {
      "cell_type": "code",
      "metadata": {
        "id": "Ti1OtImn-IoT"
      },
      "source": [
        "lista_cir=lista_circular()\n",
        "lista_cir.insertar(e1)\n",
        "lista_cir.insertar(e2)\n",
        "lista_cir.insertar(e3)"
      ],
      "execution_count": 61,
      "outputs": []
    },
    {
      "cell_type": "markdown",
      "metadata": {
        "id": "r17Bh3IT-Ox1"
      },
      "source": [
        "**Recorrer la lista**"
      ]
    },
    {
      "cell_type": "code",
      "metadata": {
        "colab": {
          "base_uri": "https://localhost:8080/"
        },
        "id": "O7jUhNpD-Tn4",
        "outputId": "71021177-8c25-45be-d6f6-2f7c8b2cc44a"
      },
      "source": [
        "lista_cir.recorrer()"
      ],
      "execution_count": 62,
      "outputs": [
        {
          "output_type": "stream",
          "text": [
            "carne: 201915059 nombre: Gerson Ortiz email: gerson.ortiz@gmail.com ->\n",
            "carne: 201915061 nombre: Luis Mendez email: luis.mendez@gmail.com ->\n",
            "carne: 201915060 nombre: Karen Hurtarte email: karen.hurtarte@gmail.com ->\n"
          ],
          "name": "stdout"
        }
      ]
    },
    {
      "cell_type": "markdown",
      "metadata": {
        "id": "0DUEw3PvQZTr"
      },
      "source": [
        "**Eliminar Un nodo de la Lista**"
      ]
    },
    {
      "cell_type": "code",
      "metadata": {
        "colab": {
          "base_uri": "https://localhost:8080/"
        },
        "id": "ARx6knpmQioj",
        "outputId": "24db32ec-f2b9-4099-b589-b911b10476e8"
      },
      "source": [
        "lista_cir.eliminar(201915060)\n",
        "lista_cir.recorrer()"
      ],
      "execution_count": 63,
      "outputs": [
        {
          "output_type": "stream",
          "text": [
            "carne: 201915059 nombre: Gerson Ortiz email: gerson.ortiz@gmail.com ->\n",
            "carne: 201915061 nombre: Luis Mendez email: luis.mendez@gmail.com ->\n"
          ],
          "name": "stdout"
        }
      ]
    },
    {
      "cell_type": "markdown",
      "metadata": {
        "id": "B6RQ_HB4Qn1i"
      },
      "source": [
        "**Buscar Nodo de la Lista**\n"
      ]
    },
    {
      "cell_type": "code",
      "metadata": {
        "colab": {
          "base_uri": "https://localhost:8080/"
        },
        "id": "uvINQ4LOgCKs",
        "outputId": "e5c59963-66ea-4daa-c7d7-f4ae0a40ae76"
      },
      "source": [
        "lista_cir.Tarea2_buscar(201915059) \n",
        "lista_cir.Tarea2_buscar(201915061)\n",
        "lista_cir.Tarea2_buscar(201915060)#dato no almacenado\n"
      ],
      "execution_count": 64,
      "outputs": [
        {
          "output_type": "stream",
          "text": [
            "carne:  201915059 nombre:  Gerson Ortiz email:  gerson.ortiz@gmail.com ->\n",
            "carne:  201915061 nombre:  Luis Mendez email:  luis.mendez@gmail.com ->\n",
            "Datos almacenados del carne: 201915060 no se encontro los datos\n"
          ],
          "name": "stdout"
        }
      ]
    }
  ]
}
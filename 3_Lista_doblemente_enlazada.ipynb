{
  "nbformat": 4,
  "nbformat_minor": 0,
  "metadata": {
    "colab": {
      "name": "3_Lista_doblemente_enlazada.ipynb",
      "provenance": [],
      "collapsed_sections": [],
      "include_colab_link": true
    },
    "kernelspec": {
      "name": "python3",
      "display_name": "Python 3"
    },
    "language_info": {
      "name": "python"
    }
  },
  "cells": [
    {
      "cell_type": "markdown",
      "metadata": {
        "id": "view-in-github",
        "colab_type": "text"
      },
      "source": [
        "<a href=\"https://colab.research.google.com/github/Emerson-O/IPC2_Tarea1_202004060/blob/main/3_Lista_doblemente_enlazada.ipynb\" target=\"_parent\"><img src=\"https://colab.research.google.com/assets/colab-badge.svg\" alt=\"Open In Colab\"/></a>"
      ]
    },
    {
      "cell_type": "markdown",
      "metadata": {
        "id": "BRQrbW3XwBHf"
      },
      "source": [
        "##**Listas Doblemente Enlazadas**\n",
        "**Definición Clase Estudiante**"
      ]
    },
    {
      "cell_type": "code",
      "metadata": {
        "id": "dvDcy9O6wNqB"
      },
      "source": [
        "class Estudiante:\n",
        "  def __init__(self, Carnet, Nombre, Edad, Address, Phone, Email, Carrera, Puesto):\n",
        "    self.Carnet = Carnet\n",
        "    self.Nombre = Nombre\n",
        "    self.Edad = Edad\n",
        "    self.Address = Address\n",
        "    self.Phone = Phone\n",
        "    self.Email = Email\n",
        "    self.Carrera = Carrera\n",
        "    self.Puesto = Puesto\n"
      ],
      "execution_count": 196,
      "outputs": []
    },
    {
      "cell_type": "markdown",
      "metadata": {
        "id": "sz3SPN8pwTOJ"
      },
      "source": [
        "**Definición Clase Nodo**"
      ]
    },
    {
      "cell_type": "code",
      "metadata": {
        "id": "xeZZiKrvwWhz"
      },
      "source": [
        "class Nodo:\n",
        "  def __init__(self, Estudiante = None, Siguiente = None, Anterior = None):\n",
        "    self.Estudiante = Estudiante\n",
        "    self.Siguiente = Siguiente\n",
        "    self.Anterior = Anterior"
      ],
      "execution_count": 197,
      "outputs": []
    },
    {
      "cell_type": "markdown",
      "metadata": {
        "id": "RF49v0W-wd2q"
      },
      "source": [
        "**Definición de la Clase Lista Doblemente Enlazada**"
      ]
    },
    {
      "cell_type": "code",
      "metadata": {
        "id": "LHQg2tTAwkGr"
      },
      "source": [
        "class lista_doble:\n",
        "  def __init__(self):\n",
        "    self.Primero = None\n",
        "\n",
        "  def insertar(self, Estudiante):\n",
        "    if self.Primero is None:\n",
        "      self.Primero = Nodo(Estudiante=Estudiante)\n",
        "    else:\n",
        "      actual = Nodo(Estudiante=Estudiante,Siguiente=self.Primero)\n",
        "      self.Primero.Anterior = actual\n",
        "      self.Primero = actual\n",
        "\n",
        "  def recorrer(self):\n",
        "    if self.Primero is None:\n",
        "      return\n",
        "    actual = self.Primero\n",
        "    print(f\"Carnet: {actual.Estudiante.Carnet}, Nombre: {actual.Estudiante.Nombre}, Email: {actual.Estudiante.Email}\")\n",
        "    while actual.Siguiente:\n",
        "      actual = actual.Siguiente\n",
        "      print(f\"Carnet: {actual.Estudiante.Carnet}, Nombre: {actual.Estudiante.Nombre}, Email: {actual.Estudiante.Email}\")\n",
        "\n",
        "  def eliminar(self,Carnet):\n",
        "    actual = self.Primero\n",
        "    while actual:\n",
        "      if actual.Estudiante.Carnet == Carnet:\n",
        "        if actual.Anterior:\n",
        "          if actual.Siguiente:\n",
        "            actual.Anterior.Siguiente = actual.Siguiente\n",
        "            actual.Siguiente.Anterior = actual.Anterior\n",
        "          else:\n",
        "            actual.Anterior.Siguiente = None\n",
        "            actual.Anterior = None\n",
        "        else:\n",
        "          if actual.Siguiente:\n",
        "            self.Primero = actual.Siguiente\n",
        "            actual.Siguiente.Anterior = None\n",
        "          else:\n",
        "            self.Primero = None\n",
        "        return True\n",
        "      else:\n",
        "        actual = actual.Siguiente\n",
        "    return False\n",
        "    \n",
        "    #Inicio de tarea no. 3 buscar datos\n",
        "  def Tarea3_buscar(self,Carnet):\n",
        "      actual=self.Primero\n",
        "      while actual !=None: \n",
        "        if actual.Estudiante.Carnet == Carnet:\n",
        "          print(\"carne: \", actual.Estudiante.Carnet, \"nombre: \", actual.Estudiante.Nombre, \"email: \", actual.Estudiante.Email, \"->\" )\n",
        "          break \n",
        "        else:\n",
        "          actual = actual.Siguiente"
      ],
      "execution_count": 198,
      "outputs": []
    },
    {
      "cell_type": "markdown",
      "metadata": {
        "id": "36ZYFXlX2MLH"
      },
      "source": [
        "**Creación Objetos Estuadiante**"
      ]
    },
    {
      "cell_type": "code",
      "metadata": {
        "id": "zJUTjZgB2SPF"
      },
      "source": [
        "e1 = Estudiante(201915050, \"Gerson Ortiz\", 20, \"0 calle 18-82 zona 1\", 24400101,\"gerson.ortiz@gmail.com\", \"Ing. Sistemas\", \"Programador Jr.\")\n",
        "e2 = Estudiante(201915060, \"Karen Hurtarte\", 21, \"7 calle 18-82 zona 1\", 24400102,\"karen.hurtarte@gmail.com\", \"Ing. Sistemas\", \"Programador Jr.\")\n",
        "e3 = Estudiante(201915061, \"Luis Mendez\", 22, \"8 calle 18-82 zona 1\", 24400101,\"luis.mendez@gmail.com\", \"Ing. Sistemas\", \"Programador Jr.\")"
      ],
      "execution_count": 199,
      "outputs": []
    },
    {
      "cell_type": "markdown",
      "metadata": {
        "id": "16I4X_P12crz"
      },
      "source": [
        "**Inserción**"
      ]
    },
    {
      "cell_type": "code",
      "metadata": {
        "id": "g4Szujfq2f8c"
      },
      "source": [
        "lista_d = lista_doble()\n",
        "lista_d.insertar(e1)\n",
        "lista_d.insertar(e2)\n",
        "lista_d.insertar(e3)"
      ],
      "execution_count": 200,
      "outputs": []
    },
    {
      "cell_type": "markdown",
      "metadata": {
        "id": "CxkACOZvwfzm"
      },
      "source": [
        "**Recorrer Lista**"
      ]
    },
    {
      "cell_type": "code",
      "metadata": {
        "colab": {
          "base_uri": "https://localhost:8080/"
        },
        "id": "91PJ46zRwj3-",
        "outputId": "a3148911-3f5a-4ffe-a991-5488bc120522"
      },
      "source": [
        "lista_d.recorrer()"
      ],
      "execution_count": 201,
      "outputs": [
        {
          "output_type": "stream",
          "text": [
            "Carnet: 201915061, Nombre: Luis Mendez, Email: luis.mendez@gmail.com\n",
            "Carnet: 201915060, Nombre: Karen Hurtarte, Email: karen.hurtarte@gmail.com\n",
            "Carnet: 201915050, Nombre: Gerson Ortiz, Email: gerson.ortiz@gmail.com\n"
          ],
          "name": "stdout"
        }
      ]
    },
    {
      "cell_type": "markdown",
      "metadata": {
        "id": "cN_AtEse7h8T"
      },
      "source": [
        "**Eliminar el nodo del medio de la lista**"
      ]
    },
    {
      "cell_type": "code",
      "metadata": {
        "colab": {
          "base_uri": "https://localhost:8080/"
        },
        "id": "yJmNcoLx7r2a",
        "outputId": "985ce70f-a3a5-4a0e-b72a-7a7e5d437aac"
      },
      "source": [
        "lista_d.eliminar(201915060)\n",
        "lista_d.recorrer()"
      ],
      "execution_count": 202,
      "outputs": [
        {
          "output_type": "stream",
          "text": [
            "Carnet: 201915061, Nombre: Luis Mendez, Email: luis.mendez@gmail.com\n",
            "Carnet: 201915050, Nombre: Gerson Ortiz, Email: gerson.ortiz@gmail.com\n"
          ],
          "name": "stdout"
        }
      ]
    },
    {
      "cell_type": "markdown",
      "metadata": {
        "id": "66y46Tmf8FjX"
      },
      "source": [
        "**Eliminar el primer nodo de la lista**"
      ]
    },
    {
      "cell_type": "code",
      "metadata": {
        "colab": {
          "base_uri": "https://localhost:8080/"
        },
        "id": "agqbvIgj8JkK",
        "outputId": "5993fe69-5ac3-4676-b288-437bd4f97aa7"
      },
      "source": [
        "#lista_d.eliminar(201915061)\n",
        "lista_d.recorrer()"
      ],
      "execution_count": 203,
      "outputs": [
        {
          "output_type": "stream",
          "text": [
            "Carnet: 201915061, Nombre: Luis Mendez, Email: luis.mendez@gmail.com\n",
            "Carnet: 201915050, Nombre: Gerson Ortiz, Email: gerson.ortiz@gmail.com\n"
          ],
          "name": "stdout"
        }
      ]
    },
    {
      "cell_type": "markdown",
      "metadata": {
        "id": "Gt18tGyo8YSr"
      },
      "source": [
        "**Eliminar el último nodo de la lista**"
      ]
    },
    {
      "cell_type": "code",
      "metadata": {
        "id": "rqkaWDAW8chW",
        "colab": {
          "base_uri": "https://localhost:8080/"
        },
        "outputId": "81e5eabc-4892-4cef-f099-42c7977d5c31"
      },
      "source": [
        "#lista_d.eliminar(201915050)\n",
        "lista_d.recorrer()"
      ],
      "execution_count": 204,
      "outputs": [
        {
          "output_type": "stream",
          "text": [
            "Carnet: 201915061, Nombre: Luis Mendez, Email: luis.mendez@gmail.com\n",
            "Carnet: 201915050, Nombre: Gerson Ortiz, Email: gerson.ortiz@gmail.com\n"
          ],
          "name": "stdout"
        }
      ]
    },
    {
      "cell_type": "markdown",
      "metadata": {
        "id": "wMb9NCc_8zPt"
      },
      "source": [
        "**Eliminar nodo a nodo de la lista**"
      ]
    },
    {
      "cell_type": "code",
      "metadata": {
        "id": "dOIlf5SF83uk",
        "colab": {
          "base_uri": "https://localhost:8080/"
        },
        "outputId": "3aa6ff53-305d-4445-8c14-b0d243151ca7"
      },
      "source": [
        "#lista_d.eliminar(201915060)\n",
        "lista_d.recorrer()"
      ],
      "execution_count": 205,
      "outputs": [
        {
          "output_type": "stream",
          "text": [
            "Carnet: 201915061, Nombre: Luis Mendez, Email: luis.mendez@gmail.com\n",
            "Carnet: 201915050, Nombre: Gerson Ortiz, Email: gerson.ortiz@gmail.com\n"
          ],
          "name": "stdout"
        }
      ]
    },
    {
      "cell_type": "markdown",
      "metadata": {
        "id": "12vCzYSN8fRm"
      },
      "source": [
        "**Buscar Nodo de la Lista**"
      ]
    },
    {
      "cell_type": "code",
      "metadata": {
        "id": "hephCy3U8ngQ",
        "colab": {
          "base_uri": "https://localhost:8080/"
        },
        "outputId": "6b9fceed-50d5-4261-d086-02df38c74ba3"
      },
      "source": [
        "lista_d.Tarea3_buscar(201915050) \n",
        "lista_d.Tarea3_buscar(201915061)\n",
        "lista_d.Tarea3_buscar(201915060)#dato no almacenado\n"
      ],
      "execution_count": 206,
      "outputs": [
        {
          "output_type": "stream",
          "text": [
            "carne:  201915050 nombre:  Gerson Ortiz email:  gerson.ortiz@gmail.com ->\n",
            "carne:  201915061 nombre:  Luis Mendez email:  luis.mendez@gmail.com ->\n"
          ],
          "name": "stdout"
        }
      ]
    }
  ]
}